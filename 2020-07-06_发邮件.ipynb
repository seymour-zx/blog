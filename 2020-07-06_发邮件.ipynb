{
 "cells": [
  {
   "cell_type": "code",
   "execution_count": 12,
   "metadata": {},
   "outputs": [
    {
     "data": {
      "text/plain": [
       "(221, b'Bye')"
      ]
     },
     "execution_count": 12,
     "metadata": {},
     "output_type": "execute_result"
    }
   ],
   "source": [
    "# 发邮件的库 \n",
    "import smtplib\n",
    "from email.header import Header\n",
    "from email.mime.multipart import MIMEMultipart\n",
    "#邮件文本\n",
    "from email.mime.text import MIMEText\n",
    "#SMTP服务器\n",
    "SMTPServer = 'smtp.163.com'\n",
    "#发邮件的地址\n",
    "Sender = 'seymour_zx@163.com'\n",
    "#发送者邮箱的密码\n",
    "passwd = 'zx074680'\n",
    "\n",
    "#设置发送的内容\n",
    "message = 'this is an email text!'\n",
    "#转换成邮件文本\n",
    "msg = MIMEText(message)\n",
    "#标题 \n",
    "msg['Subject'] = 'this is an email text!'\n",
    "#发送者\n",
    "msg['From'] = Sender\n",
    "\n",
    "'''\n",
    "msg = MIMEMultipart()\n",
    "msg['From'] = Header('发件人')\n",
    "msg['To'] = Header('收件人')\n",
    "msg['Subject'] = Header('邮件标题')\n",
    "msg.attach(MIMEText('邮件正文'))\n",
    "'''\n",
    "\n",
    "#创建SMTP服务器\n",
    "mailServer = smtplib.SMTP(SMTPServer, 25)\n",
    "#登陆邮箱\n",
    "mailServer.login(Sender,passwd)\n",
    "#发送邮件\n",
    "mailServer.sendmail(Sender,['527755481@qq.com'],msg.as_string())\n",
    "#退出邮箱\n",
    "mailServer.quit()\n"
   ]
  },
  {
   "cell_type": "code",
   "execution_count": null,
   "metadata": {},
   "outputs": [],
   "source": []
  }
 ],
 "metadata": {
  "kernelspec": {
   "display_name": "Python 3",
   "language": "python",
   "name": "python3"
  },
  "language_info": {
   "codemirror_mode": {
    "name": "ipython",
    "version": 3
   },
   "file_extension": ".py",
   "mimetype": "text/x-python",
   "name": "python",
   "nbconvert_exporter": "python",
   "pygments_lexer": "ipython3",
   "version": "3.6.5"
  }
 },
 "nbformat": 4,
 "nbformat_minor": 2
}
