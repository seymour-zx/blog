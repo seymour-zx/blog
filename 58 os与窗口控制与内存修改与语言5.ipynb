{
 "cells": [
  {
   "cell_type": "code",
   "execution_count": 2,
   "metadata": {},
   "outputs": [
    {
     "name": "stdout",
     "output_type": "stream",
     "text": [
      "end\n",
      "\n"
     ]
    }
   ],
   "source": [
    "endstr ='end'\n",
    "str1 = ''\n",
    "for line in iter(input,endstr):\n",
    "    str1 += line+'\\n'\n",
    "print(str1)"
   ]
  },
  {
   "cell_type": "code",
   "execution_count": 13,
   "metadata": {},
   "outputs": [],
   "source": [
    "import seaborn"
   ]
  },
  {
   "cell_type": "code",
   "execution_count": 14,
   "metadata": {},
   "outputs": [],
   "source": [
    "del this"
   ]
  },
  {
   "cell_type": "code",
   "execution_count": 15,
   "metadata": {},
   "outputs": [],
   "source": [
    "import this"
   ]
  },
  {
   "cell_type": "code",
   "execution_count": 17,
   "metadata": {},
   "outputs": [
    {
     "name": "stdout",
     "output_type": "stream",
     "text": [
      "My age is 8!\n"
     ]
    }
   ],
   "source": [
    "def tma(num):\n",
    "    print('My age is %d!'%(num))\n",
    "    \n",
    "tma(8)"
   ]
  },
  {
   "cell_type": "code",
   "execution_count": 19,
   "metadata": {},
   "outputs": [],
   "source": [
    "def f2(f1):\n",
    "    def f3(num):\n",
    "        if num<0:\n",
    "            num =0\n",
    "        f1(num)\n",
    "    return f3\n"
   ]
  },
  {
   "cell_type": "code",
   "execution_count": 20,
   "metadata": {},
   "outputs": [
    {
     "name": "stdout",
     "output_type": "stream",
     "text": [
      "My age is -10!\n",
      "My age is 0!\n"
     ]
    }
   ],
   "source": [
    "tma(-10)\n",
    "tma=f2(tma)\n",
    "tma(-10)"
   ]
  },
  {
   "cell_type": "code",
   "execution_count": 23,
   "metadata": {},
   "outputs": [
    {
     "name": "stdout",
     "output_type": "stream",
     "text": [
      "division by zero\n",
      "程序出现错误\n"
     ]
    }
   ],
   "source": [
    "try:\n",
    "    print(4/0)\n",
    "except Exception as e:\n",
    "    print(e)\n",
    "    print('程序出现错误')\n",
    "    "
   ]
  },
  {
   "cell_type": "code",
   "execution_count": 27,
   "metadata": {},
   "outputs": [],
   "source": [
    "try:\n",
    "    print(4/0)\n",
    "    print('meicuo')\n",
    "except Exception as e:\n",
    "    pass"
   ]
  },
  {
   "cell_type": "code",
   "execution_count": 68,
   "metadata": {},
   "outputs": [],
   "source": [
    "with open('file1.txt','wb') as f:\n",
    "    a = '協'\n",
    "    f.write(a.encode('utf-8'))"
   ]
  },
  {
   "cell_type": "code",
   "execution_count": 74,
   "metadata": {},
   "outputs": [
    {
     "name": "stdout",
     "output_type": "stream",
     "text": [
      "鍗\n"
     ]
    }
   ],
   "source": [
    "with open('file1.txt','rb') as f:\n",
    "    b = f.read()\n",
    "    c = b.decode('gbk',errors='ignore')\n",
    "    print(c)\n",
    "#     f.write(c.encode('utf-8'))"
   ]
  },
  {
   "cell_type": "code",
   "execution_count": 76,
   "metadata": {},
   "outputs": [],
   "source": [
    "with open('file1.txt','a+') as f:\n",
    "    f.write(c)"
   ]
  },
  {
   "cell_type": "code",
   "execution_count": 87,
   "metadata": {},
   "outputs": [
    {
     "name": "stdout",
     "output_type": "stream",
     "text": [
      "協\n"
     ]
    }
   ],
   "source": [
    "with open('file1.txt','rb') as f:\n",
    "    b = f.read()\n",
    "    c = b.decode('utf-8',errors='ignore')\n",
    "    print(c)"
   ]
  },
  {
   "cell_type": "code",
   "execution_count": 86,
   "metadata": {},
   "outputs": [
    {
     "name": "stdout",
     "output_type": "stream",
     "text": [
      "協?\n"
     ]
    }
   ],
   "source": [
    "with open('file2.txt','rb') as f:\n",
    "    b = f.read()\n",
    "    c = b.decode('utf-8',errors='ignore')\n",
    "    print(c)"
   ]
  },
  {
   "cell_type": "code",
   "execution_count": 92,
   "metadata": {},
   "outputs": [
    {
     "name": "stdout",
     "output_type": "stream",
     "text": [
      "協\n"
     ]
    }
   ],
   "source": [
    "n='file1.txt'\n",
    "m= 'rb'\n",
    "x = open(n,m)\n",
    "with x as f:\n",
    "    b = f.read()\n",
    "    c = b.decode('utf-8',errors='ignore')\n",
    "    print(c)"
   ]
  },
  {
   "cell_type": "code",
   "execution_count": 99,
   "metadata": {},
   "outputs": [
    {
     "name": "stdout",
     "output_type": "stream",
     "text": [
      "nt\n"
     ]
    }
   ],
   "source": [
    "import os\n",
    "print(os.name) "
   ]
  },
  {
   "cell_type": "code",
   "execution_count": 100,
   "metadata": {},
   "outputs": [
    {
     "name": "stdout",
     "output_type": "stream",
     "text": [
      "environ({'ALLUSERSPROFILE': 'C:\\\\ProgramData', 'APPDATA': 'C:\\\\Users\\\\Administrator\\\\AppData\\\\Roaming', 'COMMONPROGRAMFILES': 'C:\\\\Program Files\\\\Common Files', 'COMPUTERNAME': 'ZX', 'COMSPEC': 'C:\\\\Windows\\\\system32\\\\cmd.exe', 'FP_NO_HOST_CHECK': 'NO', 'HOMEDRIVE': 'C:', 'HOMEPATH': '\\\\Users\\\\Administrator', 'LOCALAPPDATA': 'C:\\\\Users\\\\Administrator\\\\AppData\\\\Local', 'LOGONSERVER': '\\\\\\\\ZX', 'NUMBER_OF_PROCESSORS': '3', 'OS': 'Windows_NT', 'PATH': 'D:\\\\Python_Ananconda\\\\DLLs;D:\\\\Python_Ananconda;D:\\\\Python_Ananconda\\\\Library\\\\mingw-w64\\\\bin;D:\\\\Python_Ananconda\\\\Library\\\\usr\\\\bin;D:\\\\Python_Ananconda\\\\Library\\\\bin;D:\\\\Python_Ananconda\\\\Scripts;D:\\\\Python_Ananconda;D:\\\\Python_Ananconda\\\\Library\\\\mingw-w64\\\\bin;D:\\\\Python_Ananconda\\\\Library\\\\usr\\\\bin;D:\\\\Python_Ananconda\\\\Library\\\\bin;D:\\\\Python_Ananconda\\\\Scripts;C:\\\\Windows\\\\system32;C:\\\\Windows;C:\\\\Windows\\\\System32\\\\Wbem;C:\\\\Windows\\\\System32\\\\WindowsPowerShell\\\\v1.0\\\\;C:\\\\Program Files\\\\Microsoft VS Code\\\\bin', 'PATHEXT': '.COM;.EXE;.BAT;.CMD;.VBS;.VBE;.JS;.JSE;.WSF;.WSH;.MSC', 'PROCESSOR_ARCHITECTURE': 'x86', 'PROCESSOR_IDENTIFIER': 'x86 Family 16 Model 5 Stepping 3, AuthenticAMD', 'PROCESSOR_LEVEL': '16', 'PROCESSOR_REVISION': '0503', 'PROGRAMDATA': 'C:\\\\ProgramData', 'PROGRAMFILES': 'C:\\\\Program Files', 'PSMODULEPATH': 'C:\\\\Windows\\\\system32\\\\WindowsPowerShell\\\\v1.0\\\\Modules\\\\', 'PUBLIC': 'C:\\\\Users\\\\Public', 'SESSIONNAME': 'Console', 'SYSTEMDRIVE': 'C:', 'SYSTEMROOT': 'C:\\\\Windows', 'TEMP': 'C:\\\\Users\\\\ADMINI~1\\\\AppData\\\\Local\\\\Temp', 'TMP': 'C:\\\\Users\\\\ADMINI~1\\\\AppData\\\\Local\\\\Temp', 'USERDOMAIN': 'ZX', 'USERNAME': 'Administrator', 'USERPROFILE': 'C:\\\\Users\\\\Administrator', 'WINDIR': 'C:\\\\Windows', 'WINDOWS_TRACING_FLAGS': '3', 'WINDOWS_TRACING_LOGFILE': 'C:\\\\BVTBin\\\\Tests\\\\installpackage\\\\csilogfile.log', '_DFX_INSTALL_UNSIGNED_DRIVER': '1', 'CONDA_PREFIX': 'D:\\\\Python_Ananconda', 'JPY_INTERRUPT_EVENT': '552', 'IPY_INTERRUPT_EVENT': '552', 'JPY_PARENT_PID': '560', 'TERM': 'xterm-color', 'CLICOLOR': '1', 'PAGER': 'cat', 'GIT_PAGER': 'cat', 'MPLBACKEND': 'module://ipykernel.pylab.backend_inline'})\n"
     ]
    }
   ],
   "source": [
    "print(os.environ) "
   ]
  },
  {
   "cell_type": "code",
   "execution_count": 101,
   "metadata": {},
   "outputs": [
    {
     "name": "stdout",
     "output_type": "stream",
     "text": [
      ".\n"
     ]
    }
   ],
   "source": [
    "print(os.curdir)"
   ]
  },
  {
   "cell_type": "code",
   "execution_count": 102,
   "metadata": {},
   "outputs": [
    {
     "name": "stdout",
     "output_type": "stream",
     "text": [
      "E:\\Python_Space\\Python_workspace\n"
     ]
    }
   ],
   "source": [
    "print(os.getcwd())"
   ]
  },
  {
   "cell_type": "code",
   "execution_count": 115,
   "metadata": {},
   "outputs": [
    {
     "name": "stdout",
     "output_type": "stream",
     "text": [
      "os.stat_result(st_mode=33206, st_ino=844424930139509, st_dev=2087260740, st_nlink=1, st_uid=0, st_gid=0, st_size=39866, st_atime=1552551809, st_mtime=1552732964, st_ctime=1552551809)\n"
     ]
    }
   ],
   "source": [
    "import os\n",
    "print(os.stat(r'E:\\Python_Space\\Python_workspace\\Python入门.ipynb'))"
   ]
  },
  {
   "cell_type": "code",
   "execution_count": 125,
   "metadata": {},
   "outputs": [
    {
     "data": {
      "text/plain": [
       "0"
      ]
     },
     "execution_count": 125,
     "metadata": {},
     "output_type": "execute_result"
    }
   ],
   "source": [
    "os.system('notepad')"
   ]
  },
  {
   "cell_type": "code",
   "execution_count": 129,
   "metadata": {},
   "outputs": [
    {
     "data": {
      "text/plain": [
       "0"
      ]
     },
     "execution_count": 129,
     "metadata": {},
     "output_type": "execute_result"
    }
   ],
   "source": [
    "os.system('taskkill  /f /im notepad.exe') "
   ]
  },
  {
   "cell_type": "code",
   "execution_count": 148,
   "metadata": {},
   "outputs": [
    {
     "name": "stdout",
     "output_type": "stream",
     "text": [
      "E:\\\n"
     ]
    }
   ],
   "source": [
    "print(os.path.abspath('../../'))"
   ]
  },
  {
   "cell_type": "code",
   "execution_count": 164,
   "metadata": {},
   "outputs": [
    {
     "name": "stdout",
     "output_type": "stream",
     "text": [
      "E:\\Python_Space\\Python_workspace\n",
      "E:\\Python_Space\n"
     ]
    }
   ],
   "source": [
    "path1 = r'E:\\Python_Space\\Python_workspace'\n",
    "print(os.path.abspath('.'))\n",
    "print(os.path.dirname(path1)) "
   ]
  },
  {
   "cell_type": "code",
   "execution_count": 165,
   "metadata": {},
   "outputs": [],
   "source": [
    "import win32con"
   ]
  },
  {
   "cell_type": "code",
   "execution_count": 166,
   "metadata": {},
   "outputs": [],
   "source": [
    "import win32gui"
   ]
  },
  {
   "cell_type": "code",
   "execution_count": null,
   "metadata": {},
   "outputs": [],
   "source": []
  }
 ],
 "metadata": {
  "kernelspec": {
   "display_name": "Python 3",
   "language": "python",
   "name": "python3"
  },
  "language_info": {
   "codemirror_mode": {
    "name": "ipython",
    "version": 3
   },
   "file_extension": ".py",
   "mimetype": "text/x-python",
   "name": "python",
   "nbconvert_exporter": "python",
   "pygments_lexer": "ipython3",
   "version": "3.6.5"
  }
 },
 "nbformat": 4,
 "nbformat_minor": 2
}
