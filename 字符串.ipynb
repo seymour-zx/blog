{
 "cells": [
  {
   "cell_type": "code",
   "execution_count": 2,
   "metadata": {},
   "outputs": [
    {
     "name": "stdout",
     "output_type": "stream",
     "text": [
      "My Name Is Seymour\n"
     ]
    }
   ],
   "source": [
    "#单词首字母大写\n",
    "my_string = 'my name is seymour'\n",
    "new_string = my_string.title()\n",
    "print(new_string)"
   ]
  },
  {
   "cell_type": "code",
   "execution_count": 16,
   "metadata": {},
   "outputs": [
    {
     "name": "stdout",
     "output_type": "stream",
     "text": [
      "Seymour is a rich man !\n"
     ]
    }
   ],
   "source": [
    "s = 'Seymour is a rich man !'\n",
    "if 'rich' in s:\n",
    "    print(s)"
   ]
  },
  {
   "cell_type": "code",
   "execution_count": 57,
   "metadata": {},
   "outputs": [
    {
     "name": "stdout",
     "output_type": "stream",
     "text": [
      "EDCBA\n",
      "palindrome\n",
      "['banana', 'apple', 'kiwi', 'banana', 'pear', 'apple', 'orange']\n",
      "['apple', 'apple', 'banana', 'banana', 'kiwi', 'orange', 'pear']\n",
      "['apple', 'apple', 'banana', 'banana', 'kiwi', 'orange', 'pear', 'grape']\n",
      "['apple', 'apple', 'banana', 'banana', 'kiwi', 'orange', 'pear']\n",
      "deque(['Eric', 'John', 'Michael'])\n",
      "deque(['Eric', 'John', 'Michael', 'Terry'])\n",
      "deque(['John', 'Michael', 'Terry'])\n",
      "deque(['Michael', 'Terry'])\n"
     ]
    }
   ],
   "source": [
    "#字符串反转\n",
    "My_String1 = 'ABCDE'\n",
    "My_String2 = My_String1[::-1]\n",
    "print(My_String2)\n",
    "\n",
    "#回文（字符串反转）检测\n",
    "my_string = 'abcba'\n",
    "if my_string == my_string[::-1]:\n",
    "    print('palindrome')\n",
    "else:\n",
    "    print('not palindrome')\n",
    "    \n",
    "#列表反转\n",
    "fruits = ['orange', 'apple', 'pear', 'banana', 'kiwi', 'apple', 'banana']\n",
    "fruits.reverse()\n",
    "print(fruits)\n",
    "#排序\n",
    "fruits.sort()\n",
    "print(fruits)\n",
    "\n",
    "# 列表作为栈使用（“后进先出”）\n",
    "fruits.append('grape')\n",
    "print(fruits)\n",
    "fruits.pop()\n",
    "print(fruits)\n",
    "\n",
    "# 列表作为队列使用 (“先进先出”)\n",
    "from collections import deque\n",
    "queue = deque([\"Eric\", \"John\", \"Michael\"])\n",
    "print(queue)\n",
    "queue.append(\"Terry\") \n",
    "print(queue)\n",
    "queue.popleft()\n",
    "print(queue)\n",
    "queue.popleft()\n",
    "print(queue)"
   ]
  },
  {
   "cell_type": "code",
   "execution_count": 15,
   "metadata": {},
   "outputs": [
    {
     "name": "stdout",
     "output_type": "stream",
     "text": [
      "m e s y u r o\n",
      "All elements are unique\n",
      "List has duplicates\n"
     ]
    }
   ],
   "source": [
    "#取组成字符串的元素\n",
    "#利用 set 中只能存储不重复的元素这一特性，找出一个字符串中所有组成他的元素\n",
    "my_string = 'sseeyymmoouurrr'\n",
    "temp_set = set(my_string)\n",
    "new_string = ' '.join(temp_set)\n",
    "print(new_string)\n",
    "\n",
    "\n",
    "#唯一性检查\n",
    "#下面的代码示例，可以检查列表中的元素是否是不重复的：\n",
    "def unique(l):\n",
    "    if len(l)==len(set(l)):\n",
    "        print('All elements are unique')\n",
    "    else:\n",
    "        print('List has duplicates')\n",
    "\n",
    "unique([1,2,3,4])\n",
    "unique([1,1,3,4])"
   ]
  },
  {
   "cell_type": "code",
   "execution_count": 17,
   "metadata": {},
   "outputs": [
    {
     "name": "stdout",
     "output_type": "stream",
     "text": [
      "bd123bd123bd123\n",
      "[1, 2, 3, 1, 2, 3, 1, 2, 3]\n",
      "[0, 0, 0, 0, 0, 0]\n"
     ]
    }
   ],
   "source": [
    "#重复输出String/List\n",
    "n = 3 \n",
    "my_string = 'bd123'\n",
    "print(my_string*n)\n",
    "my_list = [1,2,3]\n",
    "print(my_list*n)\n",
    "n = 4\n",
    "new_list = [0]*6\n",
    "print(new_list)"
   ]
  },
  {
   "cell_type": "code",
   "execution_count": 1,
   "metadata": {},
   "outputs": [
    {
     "name": "stdout",
     "output_type": "stream",
     "text": [
      "[2, 8] [1, 4]\n",
      "[(1, 3), (1, 4), (2, 3), (2, 1), (2, 4), (3, 1), (3, 4)]\n",
      "720\n",
      "[4, 9, 16, 25, 36]\n",
      "{1: 5, 2: 4, 3: 7}\n"
     ]
    }
   ],
   "source": [
    "#列表推导式\n",
    "original_list1 = [0,1,2,3]\n",
    "#如果n是奇数（偶数）\n",
    "new_list1 = [2**n for n in original_list1 if n & 1]\n",
    "new_list2 = [2**n for n in original_list1 if n+1 & 1]\n",
    "print(new_list1,new_list2)\n",
    "xy = [(x, y) for x in [1,2,3] for y in [3,1,4] if x != y]\n",
    "print(xy)\n",
    "\n",
    "from functools import reduce\n",
    "n = [2,3,4,5,6]\n",
    "print(reduce(lambda x,y:x*y, n))\n",
    "\n",
    "n = [2,3,4,5,6]\n",
    "print(list(map(lambda x:x**2,n)))\n",
    "\n",
    "\n",
    "\n",
    "#字典推导\n",
    "a = [1,2,3,3]\n",
    "b= [5,4,2,7]\n",
    "d = {k:v  for k,v in zip(a,b)}\n",
    "print(d)\n"
   ]
  },
  {
   "cell_type": "code",
   "execution_count": 40,
   "metadata": {},
   "outputs": [
    {
     "name": "stdout",
     "output_type": "stream",
     "text": [
      "[1, 2, 3] [5, 4, 2]\n",
      "[5, 4, 2] [1, 2, 3]\n",
      "1 5\n",
      "2 4\n",
      "3 2\n"
     ]
    }
   ],
   "source": [
    "a = [1,2,3]\n",
    "b= [5,4,2]\n",
    "print(a,b)\n",
    "a,b = b,a\n",
    "print(a,b)\n",
    "#zip打包成对输出\n",
    "for i,j in zip(b,a):\n",
    "    print(i,j)   "
   ]
  },
  {
   "cell_type": "code",
   "execution_count": 31,
   "metadata": {},
   "outputs": [
    {
     "name": "stdout",
     "output_type": "stream",
     "text": [
      "['my', 'name', 'is', 'Seymour']\n",
      "['example ', ' string1']\n"
     ]
    }
   ],
   "source": [
    "#字符串拆分\n",
    "#使用 split() 方法可以将一个字符串拆分成多个子串，你也可以将分割符作为参数传递进行，进行分割。\n",
    "string_1 ='my name is Seymour'\n",
    "string_2 = 'example / string1'\n",
    "# default separator ' '\n",
    "print(string_1.split())\n",
    "# ['My', 'name', 'is', 'Chaitanya', 'Baweja']\n",
    "# defining separator as '/'\n",
    "print(string_2.split('/'))\n",
    "# ['sample', ' string 2']\n",
    "\n"
   ]
  },
  {
   "cell_type": "code",
   "execution_count": 37,
   "metadata": {},
   "outputs": [
    {
     "name": "stdout",
     "output_type": "stream",
     "text": [
      "My name is Seymour\n"
     ]
    }
   ],
   "source": [
    "#字符串拼接\n",
    "#join()方法可以将字符串列表组合成一个字符串，下面的代码片段中，我使用,将所有的字符串拼接到一起：\n",
    "list_string = ['My','name','is','Seymour']\n",
    "# Using join with the comma separator\n",
    "print(' '.join(list_string))"
   ]
  },
  {
   "cell_type": "code",
   "execution_count": 47,
   "metadata": {},
   "outputs": [
    {
     "name": "stdout",
     "output_type": "stream",
     "text": [
      "Counter({'a': 4, 'b': 4, 'n': 2, 'm': 1})\n",
      "4\n",
      "[('a', 4), ('b', 4)]\n"
     ]
    }
   ],
   "source": [
    "#元素重复次数\n",
    "#Counter会计算每一个元素出现的次数，Counter()会返回一个字典，元素作为key，出现的次数作为 value。\n",
    "#我们也可以使用 most_common() 这个方法来获取出现字数最多的元素。\n",
    "from collections import Counter\n",
    "my_list = ['a','b','a','b','a','a','b','b','n','n','m']\n",
    "count = Counter(my_list)\n",
    "print(count)\n",
    "print(count['a'])\n",
    "print(count.most_common(2))"
   ]
  },
  {
   "cell_type": "code",
   "execution_count": 55,
   "metadata": {},
   "outputs": [
    {
     "name": "stdout",
     "output_type": "stream",
     "text": [
      "1 and 3 anaagram\n",
      "Counter({'a': 1, 'b': 1, 'c': 1}) Counter({'a': 2, 'b': 2, 'c': 2}) Counter({'b': 1, 'a': 1, 'c': 1})\n"
     ]
    }
   ],
   "source": [
    "#变位词\n",
    "#使用Counter的一个很有意思的用法是找变位词：\n",
    "#变位词一种把某个词或句子的字母的位置（顺序）加以改换所形成的新词。\n",
    "#使用 Counter 得到的两个对象如果相等，则他们是变位词：\n",
    "from collections import Counter\n",
    "str_1,str_2,str_3 = 'abc','abccab','bac'\n",
    "cnt_1,cnt_2,cnt_3 = Counter(str_1),Counter(str_2),Counter(str_3)\n",
    "if cnt_1 == cnt_2 :\n",
    "    print ('1 and 2 anaagram')\n",
    "if cnt_1 == cnt_3 :\n",
    "    print ('1 and 3 anaagram')\n",
    "print(cnt_1,cnt_2,cnt_3)"
   ]
  },
  {
   "cell_type": "code",
   "execution_count": 24,
   "metadata": {
    "collapsed": true
   },
   "outputs": [
    {
     "name": "stdout",
     "output_type": "stream",
     "text": [
      "0:aa\n",
      "1:ab\n",
      "2:ac\n",
      "3:ad\n",
      "4:aa\n",
      "\n",
      "\n",
      "aa:0\n",
      "ab:1\n",
      "ac:2\n",
      "ad:3\n",
      "aa:4\n",
      "\n",
      "\n",
      "10 1\n",
      "11 3\n",
      "12 5\n",
      "13 2\n",
      "14 4\n"
     ]
    }
   ],
   "source": [
    "#枚举遍历\n",
    "#下面的代码片段中，遍历列表中的值和对应的索引： \n",
    "my_list = ['aa','ab','ac','ad','aa']\n",
    "for index,value in enumerate(my_list):\n",
    "    print('{0}:{1}'.format(index,value))\n",
    "print('\\n')    \n",
    "for index,value in enumerate(my_list):\n",
    "    print('{1}:{0}'.format(index,value))\n",
    "print('\\n')        \n",
    "# 枚举 i是indesx,10表示从10开始计数\n",
    "x = [1,3,5,2,4]\n",
    "for i, e in enumerate(x,10):\n",
    "    print(i,e)"
   ]
  },
  {
   "cell_type": "code",
   "execution_count": 20,
   "metadata": {},
   "outputs": [
    {
     "name": "stdout",
     "output_type": "stream",
     "text": [
      "{'apple': 1, 'banana': 4, 'pear': 3}\n",
      "{'apple': 2, 'pear': 3, 'banana': 4}\n"
     ]
    }
   ],
   "source": [
    "#合并两个字典\n",
    "dic_1 = {'apple':2,'banana':4}\n",
    "dic_2 = {'apple':1,'pear':3}\n",
    "combined_dict = {**dic_1,**dic_2}\n",
    "print(combined_dict)\n",
    "\n",
    "dic_1 = {'apple':2,'banana':4}\n",
    "dic_2 = {'apple':1,'pear':3}\n",
    "combined_dict = {**dic_2,**dic_1}\n",
    "print(combined_dict)\n",
    "\n",
    "d1={'age':54}\n",
    "d2={'bob':98,'lucass':85,'lily':92}\n",
    "d2['lili']=d2.pop('lily')\n",
    "d2.update(d1)\n",
    "print(d2)"
   ]
  },
  {
   "cell_type": "code",
   "execution_count": 33,
   "metadata": {},
   "outputs": [
    {
     "name": "stdout",
     "output_type": "stream",
     "text": [
      "[1, 2, 3, 3]\n",
      "[1, 2, 4, 1, 2, 33, 22, 22, 2, 1, 3, 222, 44, 66, 88]\n",
      "[1, 2, 4, 1, 2, 33, 22, 22, 2, 1, 3, [222], 44, 66, 88]\n",
      "[1, 2, 4, 1, 2, 33, 22, 22, 2, 1, 3, 222, 44, 66, 88]\n",
      "[1, 2, 4, 1, 2, 33, 22, 22, 2, 1, 3, 222, 44, 66, 88]\n"
     ]
    }
   ],
   "source": [
    "#列表展开\n",
    "#有时候，你不知道你当前列表的嵌套深度，但是你希望把他们展开，放到一维的列表中。下面教你实现它：\n",
    "from iteration_utilities import deepflatten\n",
    "    #安装iteration_utilities\n",
    "        #  cmd.exe>>>>>>conda install -c conda-forge iteration_utilities\n",
    "#如果只嵌套一层\n",
    "def flatten(l):\n",
    "    return [item for sublist in l for item in sublist]\n",
    "l = [[1,2,3],[3]]\n",
    "print(flatten(l))\n",
    "\n",
    "l = [[1,2,4],[1,2,[33,22],22],[2,[1],3,[[222],44,66],88]]\n",
    "print(list(deepflatten(l)))\n",
    "print(list(deepflatten(l,depth=2)))\n",
    "print(list(deepflatten(l,depth=4)))\n",
    "print(list(deepflatten(l,depth=4)))"
   ]
  },
  {
   "cell_type": "code",
   "execution_count": 21,
   "metadata": {},
   "outputs": [
    {
     "name": "stdout",
     "output_type": "stream",
     "text": [
      "['b', 'e']\n",
      "['b', 'e']\n"
     ]
    }
   ],
   "source": [
    "#随机取样\n",
    "import random\n",
    "my_list = ['a','b','c','d','e']\n",
    "num_samples = 2\n",
    "samples = random.sample(my_list,num_samples)\n",
    "print(samples)\n",
    "\n",
    "#随机取样，我推荐使用 secrets 库来实现，更安全。下面的代码片段只能在 Python 3 中运行：\n",
    "import secrets\n",
    "my_list = ['a','b','c','d','e']\n",
    "num_samples = 2\n",
    "samples = secrets.SystemRandom().sample(my_list,num_samples)\n",
    "print(samples)\n",
    "# secure_random = secrets.SystemRandom()\n",
    "# samples = secure_random.sample(my_list,num_samples)\n",
    "# print(samples)"
   ]
  },
  {
   "cell_type": "code",
   "execution_count": 47,
   "metadata": {},
   "outputs": [
    {
     "name": "stdout",
     "output_type": "stream",
     "text": [
      "[2, 2, 2, 9, 9, 9, 3, 3, 4]\n"
     ]
    }
   ],
   "source": [
    "#字符数字化\n",
    "#下面代码将一个整形数转成一个数字化的对象：\n",
    "num = 222999334\n",
    "list_of_digits = list(map(int,str(num)))\n",
    "print(list_of_digits)"
   ]
  },
  {
   "cell_type": "code",
   "execution_count": 26,
   "metadata": {},
   "outputs": [
    {
     "name": "stdout",
     "output_type": "stream",
     "text": [
      "8asd98j8hihiad8\n",
      "9\n",
      " asd9 j hihiad \n"
     ]
    }
   ],
   "source": [
    "#字符串删除选择项字符\n",
    "\n",
    "n = input().split('8')\n",
    "s = input()\n",
    "a = 0\n",
    "for i in range(len(n)):\n",
    "    if n[a]==s :\n",
    "        n.remove(n[a])\n",
    "    else:\n",
    "        a = a+1\n",
    "\n",
    "print(' '.join(n))  "
   ]
  },
  {
   "cell_type": "code",
   "execution_count": null,
   "metadata": {},
   "outputs": [],
   "source": []
  }
 ],
 "metadata": {
  "kernelspec": {
   "display_name": "Python 3",
   "language": "python",
   "name": "python3"
  },
  "language_info": {
   "codemirror_mode": {
    "name": "ipython",
    "version": 3
   },
   "file_extension": ".py",
   "mimetype": "text/x-python",
   "name": "python",
   "nbconvert_exporter": "python",
   "pygments_lexer": "ipython3",
   "version": "3.6.5"
  }
 },
 "nbformat": 4,
 "nbformat_minor": 2
}
