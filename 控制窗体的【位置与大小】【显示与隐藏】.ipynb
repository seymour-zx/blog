{
 "cells": [
  {
   "cell_type": "code",
   "execution_count": 6,
   "metadata": {},
   "outputs": [],
   "source": [
    "import win32gui\n",
    "import time\n",
    "import win32con\n",
    "import random"
   ]
  },
  {
   "cell_type": "code",
   "execution_count": 8,
   "metadata": {},
   "outputs": [],
   "source": [
    "QQWin = win32gui.FindWindow('TXGuiFoundation','QQ')\n",
    "\n",
    "#参数1：控制的窗体\n",
    "#参数2：大致方位\n",
    "#参数3：位置X\n",
    "#参数4：位置Y\n",
    "#参数5：长度\n",
    "#参数6：宽度\n",
    "#参数7：win32con.SWP_SHOWWINDOW  一直显示窗体\n",
    "\n",
    "# win32gui.SetWindowPos(QQWin,win32con.HWND_TOPMOST,100,100,800,600,win32con.SWP_SHOWWINDOW)\n",
    "\n",
    "t = 0\n",
    "while t<20:\n",
    "    t+=1\n",
    "    x=random.randrange(900)\n",
    "    y=random.randrange(600)\n",
    "    time.sleep(1)\n",
    "    win32gui.SetWindowPos(QQWin,win32con.HWND_TOPMOST,x,y,800,600,win32con.SWP_SHOWWINDOW)\n",
    "    time.sleep(1)\n",
    "\n",
    "\n",
    "\n",
    "\n",
    "\n",
    "# 显示窗体\n",
    "# win32gui.ShowWindow(QQWin,win32con.SW_SHOW)\n",
    "\n",
    "# 隐藏窗体\n",
    "# win32gui.ShowWindow(QQWin,win32con.SW_HIDE)"
   ]
  },
  {
   "cell_type": "code",
   "execution_count": null,
   "metadata": {},
   "outputs": [],
   "source": [
    "# 控制窗体的显示与隐藏"
   ]
  },
  {
   "cell_type": "code",
   "execution_count": null,
   "metadata": {},
   "outputs": [],
   "source": [
    "import win32gui\n",
    "import time\n",
    "import win32con"
   ]
  },
  {
   "cell_type": "code",
   "execution_count": null,
   "metadata": {},
   "outputs": [],
   "source": [
    "# 找出窗体的编号\n",
    "# QQWin = win32gui.FindWindow('class窗体的类','windcaption窗体的标题')\n",
    "QQWin = win32gui.FindWindow('TXGuiFoundation','QQ')\n",
    "\n",
    "# 显示窗体\n",
    "win32gui.ShowWindow(QQWin,win32con.SW_SHOW)\n",
    "\n",
    "# 隐藏窗体\n",
    "win32gui.ShowWindow(QQWin,win32con.SW_HIDE)"
   ]
  },
  {
   "cell_type": "code",
   "execution_count": null,
   "metadata": {},
   "outputs": [],
   "source": [
    "t = 0\n",
    "while t<5:\n",
    "    t +=1\n",
    "    win32gui.ShowWindow(QQWin,win32con.SW_SHOW)\n",
    "    time.sleep(1)\n",
    "    win32gui.ShowWindow(QQWin,win32con.SW_HIDE)\n",
    "    time.sleep(1)"
   ]
  }
 ],
 "metadata": {
  "kernelspec": {
   "display_name": "Python 3",
   "language": "python",
   "name": "python3"
  },
  "language_info": {
   "codemirror_mode": {
    "name": "ipython",
    "version": 3
   },
   "file_extension": ".py",
   "mimetype": "text/x-python",
   "name": "python",
   "nbconvert_exporter": "python",
   "pygments_lexer": "ipython3",
   "version": "3.6.5"
  }
 },
 "nbformat": 4,
 "nbformat_minor": 2
}
