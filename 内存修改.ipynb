{
 "cells": [
  {
   "cell_type": "code",
   "execution_count": 3,
   "metadata": {},
   "outputs": [
    {
     "ename": "error",
     "evalue": "(87, 'OpenProcess', '参数错误。')",
     "output_type": "error",
     "traceback": [
      "\u001b[1;31m---------------------------------------------------------------------------\u001b[0m",
      "\u001b[1;31merror\u001b[0m                                     Traceback (most recent call last)",
      "\u001b[1;32m<ipython-input-3-8717c30d4c93>\u001b[0m in \u001b[0;36m<module>\u001b[1;34m()\u001b[0m\n\u001b[0;32m     15\u001b[0m \u001b[1;33m\u001b[0m\u001b[0m\n\u001b[0;32m     16\u001b[0m \u001b[1;31m#以最高权限打开进程\u001b[0m\u001b[1;33m\u001b[0m\u001b[1;33m\u001b[0m\u001b[0m\n\u001b[1;32m---> 17\u001b[1;33m \u001b[0mp\u001b[0m \u001b[1;33m=\u001b[0m \u001b[0mwin32api\u001b[0m\u001b[1;33m.\u001b[0m\u001b[0mOpenProcess\u001b[0m\u001b[1;33m(\u001b[0m\u001b[0mPROCESS_ALL_ACCESS\u001b[0m\u001b[1;33m,\u001b[0m\u001b[1;32mFalse\u001b[0m\u001b[1;33m,\u001b[0m\u001b[0mpid\u001b[0m\u001b[1;33m)\u001b[0m\u001b[1;33m\u001b[0m\u001b[0m\n\u001b[0m\u001b[0;32m     18\u001b[0m \u001b[1;33m\u001b[0m\u001b[0m\n\u001b[0;32m     19\u001b[0m \u001b[0mdata\u001b[0m \u001b[1;33m=\u001b[0m \u001b[0mctypes\u001b[0m\u001b[1;33m.\u001b[0m\u001b[0mc_long\u001b[0m\u001b[1;33m(\u001b[0m\u001b[1;33m)\u001b[0m\u001b[1;33m\u001b[0m\u001b[0m\n",
      "\u001b[1;31merror\u001b[0m: (87, 'OpenProcess', '参数错误。')"
     ]
    }
   ],
   "source": [
    "#进程模块\n",
    "import win32process\n",
    "#系统\n",
    "import win32con\n",
    "import win32gui\n",
    "import win32api\n",
    "import ctypes\n",
    "\n",
    "#最高权限\n",
    "PROCESS_ALL_ACCESS = (0x000F0000|0x00100000|0xFFF)\n",
    "#找窗体\n",
    "win = win32gui.FindWindow('MainWindow','植物大战僵尸中文版')\n",
    "#根据窗体找到进程号\n",
    "hid, pid = win32process.GetWindowThreadProcessId(win)\n",
    "\n",
    "#以最高权限打开进程\n",
    "p = win32api.OpenProcess(PROCESS_ALL_ACCESS,False,pid)\n",
    "\n",
    "\n",
    "#加载内核模块\n",
    "md = ctypes.windll.LoadLibrary('C:\\\\Windows\\\\System32\\\\kernel32')\n",
    "data = ctypes.c_long()\n",
    "#读取内存\n",
    "md.ReadProcessMemory(int(p),内存地址，ctypes.byref(data),4,None)\n",
    "print('data=',data)\n",
    "#新值\n",
    "newData = ctypes.c_long(10000)\n",
    "#修改\n",
    "md.WriteProcessMemory(int(p),内存地址,ctypes.byref(newData),4,None)"
   ]
  },
  {
   "cell_type": "code",
   "execution_count": 2,
   "metadata": {},
   "outputs": [
    {
     "name": "stdout",
     "output_type": "stream",
     "text": [
      "<class 'int'>\n"
     ]
    }
   ],
   "source": [
    "print(type(PROCESS_ALL_ACCESS))"
   ]
  },
  {
   "cell_type": "code",
   "execution_count": null,
   "metadata": {},
   "outputs": [],
   "source": []
  }
 ],
 "metadata": {
  "kernelspec": {
   "display_name": "Python 3",
   "language": "python",
   "name": "python3"
  },
  "language_info": {
   "codemirror_mode": {
    "name": "ipython",
    "version": 3
   },
   "file_extension": ".py",
   "mimetype": "text/x-python",
   "name": "python",
   "nbconvert_exporter": "python",
   "pygments_lexer": "ipython3",
   "version": "3.6.5"
  }
 },
 "nbformat": 4,
 "nbformat_minor": 2
}
