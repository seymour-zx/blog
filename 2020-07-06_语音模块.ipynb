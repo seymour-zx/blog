{
 "cells": [
  {
   "cell_type": "code",
   "execution_count": 1,
   "metadata": {
    "scrolled": true
   },
   "outputs": [],
   "source": [
    "# from win32com.client import constants\n",
    "# import os\n",
    "# import win32com.client\n",
    "# import pythoncom\n",
    "\n",
    "# class SpeechRecognition:\n",
    "#     def __init__(self, wordsToAdd):\n",
    "#         self.speaker = win32com.client.Dispatch('SAPI.SpVioce')\n",
    "#         self.listener = win32com.client.Dispatch('SAPI.SpSharedRecognizer')\n",
    "#         self.context = self.listener.CreateRecoContext()\n",
    "#         self.grammar = self.context.CreateGrammar()\n",
    "#         self.grammar.DictationSetState(0)\n",
    "#         self.wordsRule = self.grammar.Rules.Add('wordsRule',constants,SRATopLevel + constants.SRADynamic, 0)\n",
    "#         self.wordsRule.Clear()\n",
    "#         [self.wordsRule.InitialState.AddWordTransition(None,word) for word in wordsToAdd]\n",
    "#         self.grammar.Rules.Commit()\n",
    "#         self.grammar.CmdSetRuleState('wordsRule',1)\n",
    "#         self.grammar.Rules.Commit()\n",
    "#         self.eventHandler = ContextEvents(self.context)\n",
    "#         self.ssay('Started successfully')\n",
    "#     def say(self, phrase):\n",
    "#         self.speaker.Speak(phrase)\n",
    "        \n",
    "# class ContextEvents(win32com.client.getevents('SAPI.SpSharedRecoContext')):\n",
    "#     def OnRecognition(self, StreamNumber, StreamPosition, RecognitionType, Result):\n",
    "#         newResult = win32com.client.Dispatch(Result)\n",
    "#         print('说：',newResult.PhraseInfo.GetText())\n",
    "        \n",
    "        \n",
    "# if __name_=='__main__':\n",
    "#     wordsToAdd = ['关机','取消关机','记事本','画图板','写字板','设置','关闭记事本']\n",
    "#     speechReco = SpeechRecognition(wordsToAdd)\n",
    "#     while True:\n",
    "#         pythoncom.PumWaitingMessages()"
   ]
  },
  {
   "cell_type": "code",
   "execution_count": 60,
   "metadata": {},
   "outputs": [
    {
     "name": "stdout",
     "output_type": "stream",
     "text": [
      "Microsoft Lili\n"
     ]
    },
    {
     "data": {
      "text/plain": [
       "1"
      ]
     },
     "execution_count": 60,
     "metadata": {},
     "output_type": "execute_result"
    }
   ],
   "source": [
    "import win32com.client\n",
    "\n",
    "#创建一个说话的人\n",
    "xiaoming = win32com.client.Dispatch('SAPI.SpVoice')\n",
    "xiaoming.GetVoices().Item(0).GetDescription()\n",
    "# xiaoming.GetVoices().Item(1).GetDescription()\n",
    "xiaoming.Volume = 100\n",
    "xiaoming.Rate = 6\n",
    "print(xiaoming.GetVoices().Item(0) .GetAttribute (\"Name\"))\n",
    "# print(xiaoming.GetVoices().Item(1) .GetAttribute (\"Name\"))\n",
    "xiaoming.Speak(\"Hello, it works!\")\n",
    "xiaoming.Speak('郑協真的是越来越有钱，而且越来越帅了！')\n",
    "\n",
    "\n",
    "xiaohong = win32com.client.Dispatch('SAPI.SPVOICE')\n",
    "xiaohong.Speak('你说的真的是太正确了！')"
   ]
  },
  {
   "cell_type": "code",
   "execution_count": 44,
   "metadata": {},
   "outputs": [
    {
     "name": "stdout",
     "output_type": "stream",
     "text": [
      "Microsoft Anna\n"
     ]
    },
    {
     "data": {
      "text/plain": [
       "1"
      ]
     },
     "execution_count": 44,
     "metadata": {},
     "output_type": "execute_result"
    }
   ],
   "source": [
    "import win32com.client as wincl\n",
    "\n",
    "speaker_number = 1\n",
    "spk = wincl.Dispatch('SAPI.SPVOICE')\n",
    "# spk = wincl.Dispatch(\"SAPI.SpVoice\")\n",
    "vcs = spk.GetVoices()\n",
    "SVSFlag = 11\n",
    "print(vcs.Item (speaker_number) .GetAttribute (\"Name\")) # speaker name\n",
    "spk.Voice\n",
    "spk.SetVoice(vcs.Item(speaker_number)) # set voice (see Windows Text-to-Speech settings)\n",
    "spk.Speak(\"Hello, it works!\")"
   ]
  },
  {
   "cell_type": "code",
   "execution_count": null,
   "metadata": {},
   "outputs": [],
   "source": []
  }
 ],
 "metadata": {
  "kernelspec": {
   "display_name": "Python 3",
   "language": "python",
   "name": "python3"
  },
  "language_info": {
   "codemirror_mode": {
    "name": "ipython",
    "version": 3
   },
   "file_extension": ".py",
   "mimetype": "text/x-python",
   "name": "python",
   "nbconvert_exporter": "python",
   "pygments_lexer": "ipython3",
   "version": "3.6.5"
  }
 },
 "nbformat": 4,
 "nbformat_minor": 2
}
