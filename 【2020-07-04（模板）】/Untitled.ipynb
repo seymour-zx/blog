{
 "cells": [
  {
   "cell_type": "code",
   "execution_count": 1,
   "metadata": {},
   "outputs": [
    {
     "name": "stdout",
     "output_type": "stream",
     "text": [
      "你好\n"
     ]
    }
   ],
   "source": [
    "#!/usr/bin/python\n",
    "# -*- coding: utf-8 -*-\n",
    "import os, sys\n",
    "sys.modules\n",
    "os.environ\n",
    "\n",
    "if __name__ == \"__main__\":\n",
    "    import os, sys\n",
    "    \n",
    "    print(\"你好\")\n"
   ]
  },
  {
   "cell_type": "code",
   "execution_count": 2,
   "metadata": {},
   "outputs": [],
   "source": [
    "# 互联网访问\n",
    "# urllib.request 用于从URL检索数据\n",
    "# from urllib.request import urlopen\n",
    "# with urlopen('http://tycho.usno.navy.mil/cgi-bin/timer.pl') as response:\n",
    "#     for line in response:\n",
    "#         line = line.decode('utf-8')  # Decoding the binary data to text.\n",
    "#         if 'EST' in line or 'EDT' in line:  # look for Eastern Time\n",
    "#             print(line)"
   ]
  },
  {
   "cell_type": "code",
   "execution_count": 3,
   "metadata": {},
   "outputs": [],
   "source": [
    "\n",
    "# 项目调用固定素材时，最好这样设置\n",
    "# def resource_path(relative):\n",
    "#     if hasattr(sys, \"_MEIPASS\"):\n",
    "#         absolute_path = os.path.join(sys._MEIPASS, relative)\n",
    "#     else:\n",
    "#         absolute_path = os.path.join(relative)\n",
    "#     return absolute_path\n",
    "# 调用&存档示范\n",
    "    # 与ipynb同文件夹\n",
    "        # content.to_excel(resource_path('./py_union.xlsx'),header = True, index = False)\n",
    "        # ReadBook = xlrd.open_workbook(resource_path('./py_union.xlsx')\n",
    "        # l3.load(resource_path('./test.gif'))\n",
    "    # 与ipynb同文件夹的seymour文件夹内\n",
    "    # content.to_excel(resource_path('./seymour\\\\py_union.xlsx'),header = True, index = False)\n",
    "    # ReadBook = xlrd.open_workbook(resource_path('./seymour\\\\py_union.xlsx')\n",
    "    # l3.load(resource_path('./seymour\\\\test.gif'))\n",
    "     \n",
    "    \n",
    "#捕获异常try-except-else\n",
    "#在Python中，使用 try-except 进行异常捕获。else 可用于当没有异常发生时执行。如果你需要执行一些代码，不管是否发生过异常，请使用 final：\n",
    "#     a,b = 1,0\n",
    "#     try:\n",
    "#         print(a/b)\n",
    "#     except ZeroDivisionError:\n",
    "#         print('division by zero')\n",
    "#     else:\n",
    "#         print('no exceptions raised')\n",
    "#     finally:\n",
    "#         print('Run this always')\n",
    "\n",
    "#     try:\n",
    "#         for i in count(1):\n",
    "#             self.frames.append(ImageTk.PhotoImage(im.copy()))\n",
    "#             im.seek(i)\n",
    "#     except EOFError:\n",
    "#         pass\n",
    "\n",
    "#     try:\n",
    "#         self.delay = im.info['duration']\n",
    "#     except:\n",
    "#         self.delay = 100    \n",
    "\n",
    "\n"
   ]
  }
 ],
 "metadata": {
  "kernelspec": {
   "display_name": "Python 3",
   "language": "python",
   "name": "python3"
  },
  "language_info": {
   "codemirror_mode": {
    "name": "ipython",
    "version": 3
   },
   "file_extension": ".py",
   "mimetype": "text/x-python",
   "name": "python",
   "nbconvert_exporter": "python",
   "pygments_lexer": "ipython3",
   "version": "3.6.5"
  }
 },
 "nbformat": 4,
 "nbformat_minor": 2
}
