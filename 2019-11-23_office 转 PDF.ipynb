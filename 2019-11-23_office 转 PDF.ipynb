{
 "cells": [
  {
   "cell_type": "code",
   "execution_count": 5,
   "metadata": {},
   "outputs": [],
   "source": [
    "# Excel_PDF\n",
    "\n",
    "from win32com.client import Dispatch, constants, gencache, DispatchEx\n",
    "path1 = \"C:\\\\Users\\\\USER59\\Desktop\\\\Python_Space\\\\Python_WorkSpace\\\\34.xlsx\"\n",
    "path2 = \"C:\\\\Users\\\\USER59\\Desktop\\\\Python_Space\\\\Python_WorkSpace\\\\34.pdf\"\n",
    "xlApp = DispatchEx('Excel.Application')\n",
    "xlApp.Visible = False   #true进程可见，false暗自进行\n",
    "xlApp.DisplayAlerts = 0  #不跳出来\n",
    "books = xlApp.Workbooks.Open(path1,False)\n",
    "books.ExportAsFixedFormat(0,path2)\n",
    "books.Close(False)\n",
    "xlApp.Quit()"
   ]
  },
  {
   "cell_type": "code",
   "execution_count": 7,
   "metadata": {},
   "outputs": [],
   "source": [
    "#Word_PDF\n",
    "from win32com.client import Dispatch, constants, gencache, DispatchEx\n",
    "path1 = 'C:\\\\Users\\\\USER59\\Desktop\\\\Python_Space\\\\Python_WorkSpace\\\\123.docx'\n",
    "path2 = 'C:\\\\Users\\\\USER59\\Desktop\\\\Python_Space\\\\Python_WorkSpace\\\\334.pdf'\n",
    "gencache.EnsureModule('{00020905-0000-0000-C000-000000000046}',0,8,4)\n",
    "w = DispatchEx('Word.Application')\n",
    "doc = w.Documents.Open(path1,ReadOnly=1)\n",
    "doc.ExportAsFixedFormat(path2,constants.wdExportFormatPDF,Item=constants.wdExportDocumentWithMarkup,CreateBookmarks=constants.wdExportCreateHeadingBookmarks)\n",
    "w.Quit(constants.wdDoNotSaveChanges)"
   ]
  },
  {
   "cell_type": "code",
   "execution_count": 5,
   "metadata": {},
   "outputs": [],
   "source": [
    "#ppt_PDF\n",
    "from win32com.client import Dispatch, constants, gencache, DispatchEx\n",
    "path1 = 'C:\\\\Users\\\\USER59\\Desktop\\\\Python_Space\\\\Python_WorkSpace\\\\Wangtalang_10月份交易质量报告.pptx'\n",
    "path2 = 'C:\\\\Users\\\\USER59\\Desktop\\\\Python_Space\\\\Python_WorkSpace\\\\Wangtalang_10月份交易质量报告.pdf'\n",
    "\n",
    "gencache.EnsureModule('{00020905-0000-0000-C000-000000000046}',0,8,4)\n",
    "p = Dispatch(\"PowerPoint.Application\")\n",
    "ppt = p.Presentations.Open(path1,False,False,False)\n",
    "ppt.ExportAsFixedFormat(path2,2,PrintRange = None)\n",
    "p.Quit()"
   ]
  }
 ],
 "metadata": {
  "kernelspec": {
   "display_name": "Python 3",
   "language": "python",
   "name": "python3"
  },
  "language_info": {
   "codemirror_mode": {
    "name": "ipython",
    "version": 3
   },
   "file_extension": ".py",
   "mimetype": "text/x-python",
   "name": "python",
   "nbconvert_exporter": "python",
   "pygments_lexer": "ipython3",
   "version": "3.6.5"
  }
 },
 "nbformat": 4,
 "nbformat_minor": 2
}
