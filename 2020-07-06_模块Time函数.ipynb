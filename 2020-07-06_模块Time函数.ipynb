{
 "cells": [
  {
   "cell_type": "code",
   "execution_count": 39,
   "metadata": {},
   "outputs": [
    {
     "name": "stdout",
     "output_type": "stream",
     "text": [
      "当前时间的时间戳：1573628709.8607128秒\n",
      "当前的标准时间 time.struct_time(tm_year=2019, tm_mon=11, tm_mday=13, tm_hour=7, tm_min=5, tm_sec=9, tm_wday=2, tm_yday=317, tm_isdst=0)\n",
      "2019Year, 11Month13 14H-05M-09S\n",
      "当前的机器时间 time.struct_time(tm_year=2019, tm_mon=11, tm_mday=13, tm_hour=14, tm_min=5, tm_sec=9, tm_wday=2, tm_yday=317, tm_isdst=0)\n",
      "当前的标准时间的时间戳 1573603509.0\n",
      "当前的机器时间的时间戳 1573628709.0\n",
      "当前的标准日期 Wed Nov 13 07:05:09 2019\n",
      "当前的机器日期 Wed Nov 13 14:05:09 2019\n",
      "当前的机器时间 Wed Nov 13 14:05:09 2019\n"
     ]
    }
   ],
   "source": [
    "# time.time() 返回当前时间的时间戳（1970纪元后经过的浮点秒数）\n",
    "import time\n",
    "\n",
    "print('当前时间的时间戳：{}秒'.format(time.time())) \n",
    "\n",
    "print('当前的标准时间',time.gmtime(time.time())) \n",
    "print(time.strftime('%YYear, %mMonth%d %HH-%MM-%SS',time.localtime(time.time())))\n",
    "\n",
    "print('当前的机器时间',time.localtime(time.time())) \n",
    "\n",
    "print('当前的标准时间的时间戳',time.mktime(time.gmtime(time.time())))\n",
    "print('当前的机器时间的时间戳',time.mktime(time.localtime(time.time())))\n",
    "\n",
    "print('当前的标准日期',time.asctime(time.gmtime(time.time())))\n",
    "print('当前的机器日期',time.asctime(time.localtime(time.time())))\n",
    "\n",
    "print('当前的机器时间',time.ctime())"
   ]
  },
  {
   "cell_type": "code",
   "execution_count": 5,
   "metadata": {},
   "outputs": [
    {
     "name": "stdout",
     "output_type": "stream",
     "text": [
      "休眠时间: 1.0000314712524414 秒\n",
      "Time taken: 1000.0314712524414 毫秒(ms)\n",
      "Time taken: 1000 毫秒(ms)\n"
     ]
    }
   ],
   "source": [
    "#代码执行时间\n",
    "import time\n",
    "\n",
    "#开始计时\n",
    "start_time = time.time()\n",
    "\n",
    "#主程序内容 休眠1秒\n",
    "time.sleep(1)\n",
    "\n",
    "#结束计时\n",
    "end_time = time.time()\n",
    "\n",
    "#时间差值\n",
    "time_taken = end_time - start_time\n",
    "print('休眠时间: {0} 秒'.format(time_taken))\n",
    "\n",
    "time_taken = time_taken*(10**3)\n",
    "print('Time taken: {0} 毫秒(ms)'.format(time_taken))\n",
    "\n",
    "#强制取整\n",
    "time_taken = int(time_taken)\n",
    "print('Time taken: {0} 毫秒(ms)'.format(time_taken))"
   ]
  },
  {
   "cell_type": "code",
   "execution_count": null,
   "metadata": {},
   "outputs": [],
   "source": [
    ">>> # dates are easily constructed and formatted\n",
    ">>> from datetime import date\n",
    ">>> now = date.today()\n",
    ">>> now\n",
    "datetime.date(2003, 12, 2)\n",
    ">>> now.strftime(\"%m-%d-%y. %d %b %Y is a %A on the %d day of %B.\")\n",
    "'12-02-03. 02 Dec 2003 is a Tuesday on the 02 day of December.'\n",
    "\n",
    ">>> # dates support calendar arithmetic\n",
    ">>> birthday = date(1964, 7, 31)\n",
    ">>> age = now - birthday\n",
    ">>> age.days\n",
    "14368"
   ]
  },
  {
   "cell_type": "code",
   "execution_count": 4,
   "metadata": {},
   "outputs": [
    {
     "data": {
      "text/plain": [
       "0.07661804899115054"
      ]
     },
     "execution_count": 4,
     "metadata": {},
     "output_type": "execute_result"
    }
   ],
   "source": [
    "# 性能测量\n",
    "from timeit import Timer\n",
    "Timer('a,b = b,a', 'a=1; b=2').timeit()\n",
    "\n",
    "from timeit import Timer\n",
    "Timer('t=a; a=b; b=t', 'a=1; b=2').timeit()"
   ]
  },
  {
   "cell_type": "code",
   "execution_count": 6,
   "metadata": {},
   "outputs": [
    {
     "data": {
      "text/plain": [
       "TestResults(failed=0, attempted=1)"
      ]
     },
     "execution_count": 6,
     "metadata": {},
     "output_type": "execute_result"
    }
   ],
   "source": [
    "# 质量控制\n",
    "\n",
    "# 开发高质量软件的一种方法是在开发过程中为每个函数编写测试，并在开发过程中经常运行这些测试。\n",
    "# doctest 模块提供了一个工具，用于扫描模块并验证程序文档字符串中嵌入的测试。\n",
    "# 测试构造就像将典型调用及其结果剪切并粘贴到文档字符串一样简单。\n",
    "# 这通过向用户提供示例来改进文档，并且它允许doctest模块确保代码保持对文档的真实:\n",
    "\n",
    "def average(values):\n",
    "    \"\"\"Computes the arithmetic mean of a list of numbers.\n",
    "\n",
    "    >>> print(average([20, 30, 70]))\n",
    "    40.0\n",
    "    \"\"\"\n",
    "    return sum(values) / len(values)\n",
    "\n",
    "import doctest\n",
    "doctest.testmod()   # automatically validate the embedded tests"
   ]
  },
  {
   "cell_type": "code",
   "execution_count": null,
   "metadata": {},
   "outputs": [],
   "source": []
  }
 ],
 "metadata": {
  "kernelspec": {
   "display_name": "Python 3",
   "language": "python",
   "name": "python3"
  },
  "language_info": {
   "codemirror_mode": {
    "name": "ipython",
    "version": 3
   },
   "file_extension": ".py",
   "mimetype": "text/x-python",
   "name": "python",
   "nbconvert_exporter": "python",
   "pygments_lexer": "ipython3",
   "version": "3.6.5"
  }
 },
 "nbformat": 4,
 "nbformat_minor": 2
}
